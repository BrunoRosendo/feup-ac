{
 "cells": [
  {
   "cell_type": "markdown",
   "metadata": {},
   "source": [
    "# Analysis of Tables\n",
    "\n",
    "In this notebook we will do the data analysis of the tables\n",
    "  - Frequency of values\n",
    "  - Univariate analysis of location\n",
    "    - min, max, mode and mean values\n",
    "    - Q1, Q2(median), Q3\n",
    "  - Univariate analysis of variability or dispersion\n",
    "    - Standard deviation, variance, inter-quartile range\n",
    "  - Contingency tables: cross-frequency of values for two or more variables\n",
    "  - Multivariate analysis of variability or dispersion\n",
    "  - Covariance Matrix: variance between every pair of numeric variables, .i.e. how they vary together\n",
    "  - Correlation Matrix: correlation between every pair of numeric variables, i.e. how a change in one variable will impact the other\n",
    "  - Pearson Correlation Coefficient (ρ) (measures the linear correlation between two variables)\n",
    "  - Spearman Rank-Order Correlation Coefficient\n",
    "    - measures the strength and direction of monotonic association between two variables;\n",
    "    - two variables can be related according to a type of non-linear but still\n",
    "      monotonic relationship.\n",
    "\n",
    "## Outlier analysis\n",
    "  - Outliers can be univariate or multivariate\n",
    "  - Statistical Parametric Techniques:\n",
    "    - univariate case: boxplot definition (Tukey, 1977) is the most used one; any value outside the interval [Q1 −1.5×IQR,Q3 + 1.5×IQR]\n",
    "    - multivariate case: Mahalanobis distance (Mahalanobis, 1936).\n",
    "  - Statistical Non-parametric Techniques\n",
    "    - Kernel functions\n",
    "\n",
    "\n",
    " \n",
    "\n",
    " "
   ]
  },
  {
   "cell_type": "markdown",
   "metadata": {},
   "source": [
    "# Get data of each dataset"
   ]
  },
  {
   "cell_type": "code",
   "execution_count": 10,
   "metadata": {},
   "outputs": [],
   "source": [
    "import numpy as np\n",
    "import pandas as pd\n",
    "import matplotlib.pyplot as plt\n",
    "import seaborn as sns\n",
    "\n",
    "account_data = pd.read_csv(\"../../assets/clean/account.csv\")\n",
    "card_data = pd.read_csv(\"../../assets/clean/card_dev.csv\")\n",
    "client_data = pd.read_csv(\"../../assets/clean/client.csv\")\n",
    "disp_data = pd.read_csv(\"../../assets/clean/disp.csv\", dtype={\"disp_id\": int, \"client_id\": int, \"account_id\": int, \"type\": str})\n",
    "district_data = pd.read_csv(\"../../assets/clean/district.csv\")\n",
    "loan_data = pd.read_csv(\"../../assets/clean/loan_dev.csv\")\n",
    "transaction_data = pd.read_csv(\"../../assets/clean/trans_dev.csv\", dtype=\n",
    "    {\"trans_id\": int, \"account_id\": int, \"date\": str, \"type\": str, \"operation\": str, \"amount\": float, \"balance\": float, \"k_symbol\": str, \"bank\": str, \"account\": str}\n",
    ")"
   ]
  },
  {
   "cell_type": "markdown",
   "metadata": {},
   "source": [
    "# Duplicate Values"
   ]
  },
  {
   "cell_type": "code",
   "execution_count": 11,
   "metadata": {},
   "outputs": [
    {
     "name": "stdout",
     "output_type": "stream",
     "text": [
      "Number of duplicates in account dataset:  0\n",
      "Number of duplicates in card dataset:  0\n",
      "Number of duplicates in client dataset:  0\n",
      "Number of duplicates in disposition dataset:  0\n",
      "Number of duplicates in district dataset:  0\n",
      "Number of duplicates in loans dataset:  0\n",
      "Number of duplicates in transactions dataset:  0\n"
     ]
    }
   ],
   "source": [
    "print(\"Number of duplicates in account dataset: \", account_data.duplicated().sum())\n",
    "print(\"Number of duplicates in card dataset: \", card_data.duplicated().sum())\n",
    "print(\"Number of duplicates in client dataset: \", client_data.duplicated().sum())\n",
    "print(\"Number of duplicates in disposition dataset: \", disp_data.duplicated().sum())\n",
    "print(\"Number of duplicates in district dataset: \", district_data.duplicated().sum())\n",
    "print(\"Number of duplicates in loans dataset: \", loan_data.duplicated().sum())\n",
    "print(\"Number of duplicates in transactions dataset: \", transaction_data.duplicated().sum())"
   ]
  },
  {
   "cell_type": "markdown",
   "metadata": {},
   "source": [
    "# Show Frequency of values\n",
    "\n",
    "## Frequency on account and card_dev datasets\n",
    "\n",
    "The number of missing values is done in dataAnalysis notebook.\n",
    "For disposition table, it's also done in dataAnalysis notebook, having a graph\n",
    "representing the number of owners and disponents\n",
    "Same on trans_dev table"
   ]
  },
  {
   "cell_type": "code",
   "execution_count": 13,
   "metadata": {},
   "outputs": [
    {
     "name": "stdout",
     "output_type": "stream",
     "text": [
      "Account: \n",
      "monthly issuance              4167\n",
      "weekly issuance                240\n",
      "issuance after transaction      93\n",
      "Name: frequency, dtype: int64 \n",
      "\n",
      "Account: \n",
      "classic    127\n",
      "junior      41\n",
      "gold         9\n",
      "Name: type, dtype: int64 \n",
      "\n",
      "Account: \n",
      "1    2724\n",
      "0    2645\n",
      "Name: gender, dtype: int64 \n",
      "\n"
     ]
    },
    {
     "data": {
      "image/png": "[encoded data removed]",
      "text/plain": [
       "<Figure size 432x288 with 1 Axes>"
      ]
     },
     "metadata": {
      "needs_background": "light"
     },
     "output_type": "display_data"
    }
   ],
   "source": [
    "print(f\"Account: \\n{account_data['frequency'].value_counts()} \\n\")\n",
    "print(f\"Account: \\n{card_data['type'].value_counts()} \\n\")\n",
    "print(f\"Account: \\n{client_data['gender'].value_counts()} \\n\")\n"
   ]
  },
  {
   "cell_type": "markdown",
   "metadata": {},
   "source": [
    "# Get the min, max, mode and median values  "
   ]
  },
  {
   "cell_type": "code",
   "execution_count": 18,
   "metadata": {},
   "outputs": [
    {
     "name": "stdout",
     "output_type": "stream",
     "text": [
      "Client Data: \n",
      "\n",
      "Min: \n",
      "1911-08-20\n",
      "\n",
      "Max: \n",
      "1987-09-27\n",
      "\n",
      "District Data: \n",
      "\n"
     ]
    },
    {
     "ename": "KeyError",
     "evalue": "'no. of inhabitants'",
     "output_type": "error",
     "traceback": [
      "\u001b[1;31m---------------------------------------------------------------------------\u001b[0m",
      "\u001b[1;31mKeyError\u001b[0m                                  Traceback (most recent call last)",
      "File \u001b[1;32m~\\AppData\\Local\\Packages\\PythonSoftwareFoundation.Python.3.9_qbz5n2kfra8p0\\LocalCache\\local-packages\\Python39\\site-packages\\pandas\\core\\indexes\\base.py:3621\u001b[0m, in \u001b[0;36mIndex.get_loc\u001b[1;34m(self, key, method, tolerance)\u001b[0m\n\u001b[0;32m   3620\u001b[0m \u001b[39mtry\u001b[39;00m:\n\u001b[1;32m-> 3621\u001b[0m     \u001b[39mreturn\u001b[39;00m \u001b[39mself\u001b[39;49m\u001b[39m.\u001b[39;49m_engine\u001b[39m.\u001b[39;49mget_loc(casted_key)\n\u001b[0;32m   3622\u001b[0m \u001b[39mexcept\u001b[39;00m \u001b[39mKeyError\u001b[39;00m \u001b[39mas\u001b[39;00m err:\n",
      "File \u001b[1;32m~\\AppData\\Local\\Packages\\PythonSoftwareFoundation.Python.3.9_qbz5n2kfra8p0\\LocalCache\\local-packages\\Python39\\site-packages\\pandas\\_libs\\index.pyx:136\u001b[0m, in \u001b[0;36mpandas._libs.index.IndexEngine.get_loc\u001b[1;34m()\u001b[0m\n",
      "File \u001b[1;32m~\\AppData\\Local\\Packages\\PythonSoftwareFoundation.Python.3.9_qbz5n2kfra8p0\\LocalCache\\local-packages\\Python39\\site-packages\\pandas\\_libs\\index.pyx:163\u001b[0m, in \u001b[0;36mpandas._libs.index.IndexEngine.get_loc\u001b[1;34m()\u001b[0m\n",
      "File \u001b[1;32mpandas\\_libs\\hashtable_class_helper.pxi:5198\u001b[0m, in \u001b[0;36mpandas._libs.hashtable.PyObjectHashTable.get_item\u001b[1;34m()\u001b[0m\n",
      "File \u001b[1;32mpandas\\_libs\\hashtable_class_helper.pxi:5206\u001b[0m, in \u001b[0;36mpandas._libs.hashtable.PyObjectHashTable.get_item\u001b[1;34m()\u001b[0m\n",
      "\u001b[1;31mKeyError\u001b[0m: 'no. of inhabitants'",
      "\nThe above exception was the direct cause of the following exception:\n",
      "\u001b[1;31mKeyError\u001b[0m                                  Traceback (most recent call last)",
      "\u001b[1;32md:\\Faculdade\\4ano\\AC\\src\\understanding\\understanding.ipynb Cell 9\u001b[0m in \u001b[0;36m<cell line: 8>\u001b[1;34m()\u001b[0m\n\u001b[0;32m      <a href='vscode-notebook-cell:/d%3A/Faculdade/4ano/AC/src/understanding/understanding.ipynb#X12sZmlsZQ%3D%3D?line=4'>5</a>\u001b[0m \u001b[39mprint\u001b[39m(\u001b[39mf\u001b[39m\u001b[39m\"\u001b[39m\u001b[39mMax: \u001b[39m\u001b[39m\\n\u001b[39;00m\u001b[39m{\u001b[39;00mclient_data[\u001b[39m'\u001b[39m\u001b[39mbirth_number\u001b[39m\u001b[39m'\u001b[39m]\u001b[39m.\u001b[39mmax()\u001b[39m}\u001b[39;00m\u001b[39m\\n\u001b[39;00m\u001b[39m\"\u001b[39m)\n\u001b[0;32m      <a href='vscode-notebook-cell:/d%3A/Faculdade/4ano/AC/src/understanding/understanding.ipynb#X12sZmlsZQ%3D%3D?line=6'>7</a>\u001b[0m \u001b[39mprint\u001b[39m(\u001b[39mf\u001b[39m\u001b[39m\"\u001b[39m\u001b[39mDistrict Data: \u001b[39m\u001b[39m\\n\u001b[39;00m\u001b[39m\"\u001b[39m)\n\u001b[1;32m----> <a href='vscode-notebook-cell:/d%3A/Faculdade/4ano/AC/src/understanding/understanding.ipynb#X12sZmlsZQ%3D%3D?line=7'>8</a>\u001b[0m \u001b[39mprint\u001b[39m(\u001b[39mf\u001b[39m\u001b[39m\"\u001b[39m\u001b[39mMin: \u001b[39m\u001b[39m\\n\u001b[39;00m\u001b[39m{\u001b[39;00mdistrict_data[\u001b[39m'\u001b[39m\u001b[39mno. of inhabitants\u001b[39m\u001b[39m'\u001b[39m]\u001b[39m.\u001b[39mmin()\u001b[39m}\u001b[39;00m\u001b[39m\\n\u001b[39;00m\u001b[39m\"\u001b[39m)\n\u001b[0;32m      <a href='vscode-notebook-cell:/d%3A/Faculdade/4ano/AC/src/understanding/understanding.ipynb#X12sZmlsZQ%3D%3D?line=8'>9</a>\u001b[0m \u001b[39mprint\u001b[39m(\u001b[39mf\u001b[39m\u001b[39m\"\u001b[39m\u001b[39mMax: \u001b[39m\u001b[39m\\n\u001b[39;00m\u001b[39m{\u001b[39;00mdistrict_data[\u001b[39m'\u001b[39m\u001b[39mno. of inhabitants\u001b[39m\u001b[39m'\u001b[39m]\u001b[39m.\u001b[39mmax()\u001b[39m}\u001b[39;00m\u001b[39m\\n\u001b[39;00m\u001b[39m\"\u001b[39m)\n",
      "File \u001b[1;32m~\\AppData\\Local\\Packages\\PythonSoftwareFoundation.Python.3.9_qbz5n2kfra8p0\\LocalCache\\local-packages\\Python39\\site-packages\\pandas\\core\\frame.py:3505\u001b[0m, in \u001b[0;36mDataFrame.__getitem__\u001b[1;34m(self, key)\u001b[0m\n\u001b[0;32m   3503\u001b[0m \u001b[39mif\u001b[39;00m \u001b[39mself\u001b[39m\u001b[39m.\u001b[39mcolumns\u001b[39m.\u001b[39mnlevels \u001b[39m>\u001b[39m \u001b[39m1\u001b[39m:\n\u001b[0;32m   3504\u001b[0m     \u001b[39mreturn\u001b[39;00m \u001b[39mself\u001b[39m\u001b[39m.\u001b[39m_getitem_multilevel(key)\n\u001b[1;32m-> 3505\u001b[0m indexer \u001b[39m=\u001b[39m \u001b[39mself\u001b[39;49m\u001b[39m.\u001b[39;49mcolumns\u001b[39m.\u001b[39;49mget_loc(key)\n\u001b[0;32m   3506\u001b[0m \u001b[39mif\u001b[39;00m is_integer(indexer):\n\u001b[0;32m   3507\u001b[0m     indexer \u001b[39m=\u001b[39m [indexer]\n",
      "File \u001b[1;32m~\\AppData\\Local\\Packages\\PythonSoftwareFoundation.Python.3.9_qbz5n2kfra8p0\\LocalCache\\local-packages\\Python39\\site-packages\\pandas\\core\\indexes\\base.py:3623\u001b[0m, in \u001b[0;36mIndex.get_loc\u001b[1;34m(self, key, method, tolerance)\u001b[0m\n\u001b[0;32m   3621\u001b[0m     \u001b[39mreturn\u001b[39;00m \u001b[39mself\u001b[39m\u001b[39m.\u001b[39m_engine\u001b[39m.\u001b[39mget_loc(casted_key)\n\u001b[0;32m   3622\u001b[0m \u001b[39mexcept\u001b[39;00m \u001b[39mKeyError\u001b[39;00m \u001b[39mas\u001b[39;00m err:\n\u001b[1;32m-> 3623\u001b[0m     \u001b[39mraise\u001b[39;00m \u001b[39mKeyError\u001b[39;00m(key) \u001b[39mfrom\u001b[39;00m \u001b[39merr\u001b[39;00m\n\u001b[0;32m   3624\u001b[0m \u001b[39mexcept\u001b[39;00m \u001b[39mTypeError\u001b[39;00m:\n\u001b[0;32m   3625\u001b[0m     \u001b[39m# If we have a listlike key, _check_indexing_error will raise\u001b[39;00m\n\u001b[0;32m   3626\u001b[0m     \u001b[39m#  InvalidIndexError. Otherwise we fall through and re-raise\u001b[39;00m\n\u001b[0;32m   3627\u001b[0m     \u001b[39m#  the TypeError.\u001b[39;00m\n\u001b[0;32m   3628\u001b[0m     \u001b[39mself\u001b[39m\u001b[39m.\u001b[39m_check_indexing_error(key)\n",
      "\u001b[1;31mKeyError\u001b[0m: 'no. of inhabitants'"
     ]
    }
   ],
   "source": [
    "# Calculate the min, max, mode and median values \n",
    "\n",
    "print(f\"Client Data: \\n\")\n",
    "print(f\"Min: \\n{client_data['birth_number'].min()}\\n\")\n",
    "print(f\"Max: \\n{client_data['birth_number'].max()}\\n\")\n",
    "\n",
    "print(f\"District Data: \\n\")\n",
    "#print(f\"Min: \\n{district_data['no. of inhabitants'].min()}\\n\")\n",
    "#print(f\"Max: \\n{district_data['no. of inhabitants'].max()}\\n\")\n",
    "\n",
    "\n"
   ]
  },
  {
   "cell_type": "markdown",
   "metadata": {},
   "source": [
    "# Plot the number of transactions per account"
   ]
  },
  {
   "cell_type": "code",
   "execution_count": 19,
   "metadata": {},
   "outputs": [
    {
     "data": {
      "text/plain": [
       "<AxesSubplot:xlabel='num_transactions', ylabel='Count'>"
      ]
     },
     "execution_count": 19,
     "metadata": {},
     "output_type": "execute_result"
    },
    {
     "data": {
      "image/png": "[encoded data removed]",
      "text/plain": [
       "<Figure size 432x288 with 1 Axes>"
      ]
     },
     "metadata": {
      "needs_background": "light"
     },
     "output_type": "display_data"
    }
   ],
   "source": [
    "# get the number of transactions per account\n",
    "account_transactions = transaction_data.groupby(\"account_id\").size().reset_index(name=\"num_transactions\")\n",
    "# plot the distribution of the number of transactions per account\n",
    "sns.histplot(account_transactions[\"num_transactions\"], kde=False, bins=100)\n"
   ]
  }
 ],
 "metadata": {
  "kernelspec": {
   "display_name": "Python 3.9.13 64-bit (microsoft store)",
   "language": "python",
   "name": "python3"
  },
  "language_info": {
   "codemirror_mode": {
    "name": "ipython",
    "version": 3
   },
   "file_extension": ".py",
   "mimetype": "text/x-python",
   "name": "python",
   "nbconvert_exporter": "python",
   "pygments_lexer": "ipython3",
   "version": "3.9.13"
  },
  "orig_nbformat": 4,
  "vscode": {
   "interpreter": {
    "hash": "1327c0fcb37cc21821c192c74e98fed8cf0274ea483059ad1aef18a8cb9d5c44"
   }
  }
 },
 "nbformat": 4,
 "nbformat_minor": 2
}
