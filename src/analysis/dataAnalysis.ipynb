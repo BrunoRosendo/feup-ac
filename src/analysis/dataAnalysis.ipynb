{
 "cells": [
  {
   "cell_type": "markdown",
   "id": "14983191",
   "metadata": {},
   "source": [
    "# Data Analysis"
   ]
  },
  {
   "cell_type": "markdown",
   "id": "0ece97d8",
   "metadata": {},
   "source": [
    "## Dependencies"
   ]
  },
  {
   "cell_type": "code",
   "execution_count": null,
   "id": "a4997003",
   "metadata": {},
   "outputs": [],
   "source": [
    "import json\n",
    "import numpy as np\n",
    "import pandas as pd\n",
    "import matplotlib.pyplot as plt\n",
    "import seaborn as sb"
   ]
  },
  {
   "cell_type": "markdown",
   "id": "d89eb8f5",
   "metadata": {},
   "source": [
    "## Import Data"
   ]
  },
  {
   "cell_type": "code",
   "execution_count": null,
   "id": "2d5c1c52",
   "metadata": {},
   "outputs": [],
   "source": [
    "account_data = pd.read_csv(\"../../assets/clean/account.csv\")\n",
    "card_data = pd.read_csv(\"../../assets/clean/card_dev.csv\")\n",
    "client_data = pd.read_csv(\"../../assets/clean/client.csv\")\n",
    "disp_data = pd.read_csv(\"../../assets/clean/disp.csv\", dtype={\"disp_id\": int, \"client_id\": int, \"account_id\": int, \"type\": str})\n",
    "district_data = pd.read_csv(\"../../assets/clean/district.csv\")\n",
    "loan_data = pd.read_csv(\"../../assets/clean/loan_dev.csv\")\n",
    "transaction_data = pd.read_csv(\"../../assets/clean/trans_dev.csv\", dtype=\n",
    "    {\"trans_id\": str, \"account_id\": str, \"date\": str, \"type\": str, \"operation\": str, \"amount\": float, \"balance\": float, \"k_symbol\": str, \"bank\": str, \"account\": str}\n",
    ")\n"
   ]
  },
  {
   "cell_type": "markdown",
   "id": "fbb404c6",
   "metadata": {},
   "source": [
    "## Data Exploratory Analysis"
   ]
  },
  {
   "cell_type": "code",
   "execution_count": null,
   "id": "7b805288",
   "metadata": {},
   "outputs": [],
   "source": [
    "# Variable used to avoid re-running certain cells\n",
    "DATA_IS_LOADED = False"
   ]
  },
  {
   "cell_type": "markdown",
   "id": "4485fef5",
   "metadata": {},
   "source": [
    "### Change Pandas display settings"
   ]
  },
  {
   "cell_type": "code",
   "execution_count": null,
   "id": "667d7b35",
   "metadata": {},
   "outputs": [],
   "source": [
    "pd.set_option('display.max_rows', 500)\n",
    "pd.set_option('display.max_columns', 500)\n",
    "pd.set_option('display.width', 1000)"
   ]
  },
  {
   "cell_type": "markdown",
   "id": "fddd9a62",
   "metadata": {},
   "source": [
    "### Analyze the Size of each Dataset"
   ]
  },
  {
   "cell_type": "code",
   "execution_count": null,
   "id": "72d5df83",
   "metadata": {},
   "outputs": [],
   "source": [
    "print(\"=============================================\\n\")\n",
    "print(\"Number of rows for each dataset: \\n\")\n",
    "print(f\"Account: {len(account_data)}\")\n",
    "print(f\"Card: {len(card_data)}\")\n",
    "print(f\"Client: {len(client_data)}\")\n",
    "print(f\"Disposition: {len(disp_data)}\")\n",
    "print(f\"District: {len(district_data)}\")\n",
    "print(f\"Loan: {len(loan_data)}\")\n",
    "print(f\"Transaction: {len(transaction_data)}\")"
   ]
  },
  {
   "cell_type": "markdown",
   "id": "d49c776c",
   "metadata": {},
   "source": [
    "### Get Missing Values"
   ]
  },
  {
   "cell_type": "code",
   "execution_count": null,
   "id": "7698bf2e",
   "metadata": {},
   "outputs": [],
   "source": [
    "print(\"=============================================\\n\")\n",
    "print(\"Missing values for each dataset: \\n\")\n",
    "print(f\"Account: \\n{account_data.isnull().sum()} \\n\")\n",
    "print(f\"Card: \\n{card_data.isnull().sum()} \\n\")\n",
    "print(f\"Client: \\n{client_data.isnull().sum()} \\n\")\n",
    "print(f\"Disposition: \\n{disp_data.isnull().sum()} \\n\")\n",
    "print(f\"District: \\n{district_data.isnull().sum()} \\n\")\n",
    "print(f\"Loan: \\n{loan_data.isnull().sum()} \\n\")\n",
    "print(f\"Transaction: \\n{transaction_data.isnull().sum()} \\n\")\n",
    "\n",
    "# TODO: Confirm if missing values are all being tracked. Values such as '?' exist in the original dataset"
   ]
  },
  {
   "cell_type": "markdown",
   "id": "e13d33bf",
   "metadata": {},
   "source": [
    "### Analyze Loans"
   ]
  },
  {
   "cell_type": "code",
   "execution_count": null,
   "id": "77d65679",
   "metadata": {},
   "outputs": [],
   "source": [
    "print(\"=============================================\\n\")\n",
    "paid_loans = loan_data[loan_data[\"paid\"] == 1]\n",
    "unpaid_loans = loan_data[loan_data[\"paid\"] == 0]\n",
    "paid_loans_percentage = round((len(paid_loans)/len(loan_data)) * 100, 2)\n",
    "print(f\"{paid_loans_percentage}% of loans are paid.\")"
   ]
  },
  {
   "cell_type": "markdown",
   "id": "06b64100",
   "metadata": {},
   "source": [
    "Approx 86% of loans have been paid (positive result). This means\n",
    "means that accuracy isn't a good metric to optimize for"
   ]
  },
  {
   "cell_type": "code",
   "execution_count": null,
   "id": "343d6216",
   "metadata": {},
   "outputs": [],
   "source": [
    "plt.figure()\n",
    "plt.bar([0, 1], loan_data[\"paid\"].value_counts(), tick_label=[\"Paid\", \"Unpaid\"])\n",
    "# plt.ylim(0, 300)\n",
    "plt.title(\"Loans paid vs unpaid\")\n",
    "plt.xlabel(\"Paid\")\n",
    "plt.ylabel(\"Frequency\")\n",
    "plt.show()"
   ]
  },
  {
   "cell_type": "markdown",
   "id": "65f4ef9d",
   "metadata": {},
   "source": [
    "### Investigate attributes with a large quantity of nulls"
   ]
  },
  {
   "cell_type": "code",
   "execution_count": null,
   "id": "567f4adc",
   "metadata": {},
   "outputs": [],
   "source": [
    "# TOOD: SPLIT THIS INTO DIFFERENT CELLS\n",
    "\n",
    "def parse_k_symbol(k_symb):\n",
    "    if isinstance(k_symb, float):\n",
    "        return 'none'\n",
    "    elif k_symb == \" \":\n",
    "        return 'none'\n",
    "    else:\n",
    "        return k_symb\n",
    "\n",
    "print(\"=============================================\\n\")\n",
    "print(\"[Operation]:\")\n",
    "print(transaction_data[\"operation\"].value_counts())\n",
    "operationNullsPercentage = round(len(transaction_data[transaction_data[\"operation\"].isnull()]) / len(transaction_data[\"operation\"]) * 100, 2)\n",
    "print(f\"Nulls (%): {operationNullsPercentage}%\")\n",
    "''' The operation attribute is categorical and doesn't reveal an inherited order. It can be encoded with 3 attributes\n",
    "using binary encoding. We will fill the 'nulls' with \"unknown\"\n",
    "'''\n",
    "\n",
    "transaction_data['operation'].fillna(\"unknown\", inplace=True)\n",
    "# print(transaction_data[\"operation\"].value_counts())\n",
    "\n",
    "print(\"\\n[k_symbol]:\")\n",
    "# print(transaction_data[\"k_symbol\"].value_counts())\n",
    "''' The k_symbol attribute is categorical and doesn't reveal an inherited order. It can be encoded with 3 attributes\n",
    "using binary encoding. We will replace the \" \" with \"none\"\n",
    "'''\n",
    "\n",
    "transaction_data[\"k_symbol\"] = transaction_data[\"k_symbol\"].apply(parse_k_symbol)\n",
    "print(transaction_data[\"k_symbol\"].value_counts())\n",
    "k_symbol_none_percentage = round(len(transaction_data[transaction_data[\"k_symbol\"] == \"none\"]) / len(transaction_data[\"k_symbol\"]) * 100, 2)\n",
    "print(f\"Nulls (%): {k_symbol_none_percentage}%\")\n",
    "\n",
    "\n",
    "print(\"\\n[bank]:\")\n",
    "#print(transaction_data[\"bank\"].value_counts())\n",
    "print(\"Number of unknown banks:\", len(transaction_data[transaction_data['bank'].isnull()]))\n",
    "\n",
    "print(\"\\n[account]:\")\n",
    "# print(transaction_data[\"account\"].value_counts())\n",
    "print(\"Number of unknown partners:\", len(transaction_data[transaction_data['account'].isnull()]) + len(transaction_data[transaction_data['account'] == \"0\"]))\n",
    "\n",
    "rows = transaction_data[transaction_data[\"bank\"].isnull() & (~transaction_data[\"account\"].isnull()) & (transaction_data[\"account\"] != \"0\")]\n",
    "print(f\"Number of rows where bank is empty and the account isn't: {len(rows)}\")\n",
    "'''This proves that these 2 feature are highly correlated. Although these 2 attributes aren't likely to contribute anything to our prediction, we can create an\n",
    "\"unknown\" bank and set all unknown account attributes to 0.'''\n",
    "\n",
    "transaction_data[\"account\"].fillna(0, inplace=True)\n",
    "transaction_data[\"bank\"].fillna(\"unknown\", inplace=True)"
   ]
  },
  {
   "cell_type": "markdown",
   "id": "08d3c4b3",
   "metadata": {},
   "source": [
    "### Join Data\n",
    "\n",
    "It is needed to join all datasets into a single Dataframe"
   ]
  },
  {
   "cell_type": "code",
   "execution_count": null,
   "id": "4ec5a938",
   "metadata": {},
   "outputs": [],
   "source": [
    "# Auxiliary method to join 2 datasets\n",
    "def join(df1, df2, key1, key2, suff, t=\"inner\"):\n",
    "    return df1.merge(df2, left_on=key1, right_on=key2, how=t, suffixes=suff)"
   ]
  },
  {
   "cell_type": "markdown",
   "id": "d2ddc60e",
   "metadata": {},
   "source": [
    "#### Join Account with Disposition"
   ]
  },
  {
   "cell_type": "markdown",
   "id": "ed4d99c5",
   "metadata": {},
   "source": [
    "Let's first analyze the Disposition dataset:"
   ]
  },
  {
   "cell_type": "code",
   "execution_count": null,
   "id": "bdf3be54",
   "metadata": {},
   "outputs": [],
   "source": [
    "print(\"Number of clients per disposition type:\")\n",
    "print(disp_data[\"type\"].value_counts())\n",
    "\n",
    "sb.displot(disp_data, x=\"type\", hue=\"type\")\n",
    "plt.show()"
   ]
  },
  {
   "cell_type": "markdown",
   "id": "ec7626b1",
   "metadata": {},
   "source": [
    "All Accounts have at least 1 Disposition. There are more Dispositions than Accounts, since some clients are **owners** while others are **disponent owners** "
   ]
  },
  {
   "cell_type": "markdown",
   "id": "25b3226b",
   "metadata": {},
   "source": [
    "We will create an attribute on the Account table that reflects whether the account is co-owned. Note that the DISPONENTs will be dropped from the joined table. The type attribute can be dropped as well since all dispositions are Owners."
   ]
  },
  {
   "cell_type": "code",
   "execution_count": null,
   "id": "31214c19",
   "metadata": {},
   "outputs": [],
   "source": [
    "df = join(account_data, disp_data, \"account_id\", \"account_id\", [\"\", \"_disp\"])\n",
    "\n",
    "# Count Groups\n",
    "owner_count = df[\"account_id\"].value_counts()\n",
    "df[\"is_co-owned\"] = df.apply(lambda row: 1 if owner_count[row[\"account_id\"]] > 1 else 0, axis='columns')\n",
    "\n",
    "# Cleanup\n",
    "df.drop(df[df[\"type\"] == \"DISPONENT\"].index, inplace=True)\n",
    "df.drop(columns=[\"type\"], inplace=True)"
   ]
  },
  {
   "cell_type": "markdown",
   "id": "46211c3f",
   "metadata": {},
   "source": [
    "TODO: The column \"disp_id\" might also be useless since it's a 1-1 relation with the account now. But we\n",
    " will drop it after proving the correlation between the 2 attributes.'"
   ]
  },
  {
   "cell_type": "markdown",
   "id": "d4d8866c",
   "metadata": {},
   "source": [
    "### Join Clients"
   ]
  },
  {
   "cell_type": "code",
   "execution_count": null,
   "id": "cb731d14",
   "metadata": {},
   "outputs": [],
   "source": [
    "if not DATA_IS_LOADED:\n",
    "    df = join(df, client_data, \"client_id\", \"client_id\", [\"\", \"_client\"], t=\"left\")\n",
    "    df.drop(['client_id'], axis='columns', inplace=True, errors='ignore')"
   ]
  },
  {
   "cell_type": "markdown",
   "id": "fe0bc8b8",
   "metadata": {},
   "source": [
    "#### Join Districts\n",
    "\n",
    "Both the *Account* and the *Client* have a foreign key to the *District* table\n",
    "We will for now add *District* info about both"
   ]
  },
  {
   "cell_type": "code",
   "execution_count": null,
   "id": "b4d3ccad",
   "metadata": {},
   "outputs": [],
   "source": [
    "if not DATA_IS_LOADED:\n",
    "    # Add Client's District Data -> Change to MD\n",
    "    df = join(df, district_data, \"district_id_client\", \"code\", [\"\", \"_district\"], t=\"inner\")\n",
    "    df.drop(['district_id_client'], axis='columns', inplace=True)\n",
    "\n",
    "    # Add Accounts's District Data -> Change to MD\n",
    "    df = join(df, district_data, \"district_id\", \"code\", [\"_aDistrict\", \"_cDistrict\"], t=\"inner\")\n",
    "    df.drop(['district_id'], axis='columns', inplace=True)\n"
   ]
  },
  {
   "cell_type": "markdown",
   "id": "78a9307a",
   "metadata": {},
   "source": [
    "==================="
   ]
  },
  {
   "cell_type": "code",
   "execution_count": null,
   "id": "aab81c8f",
   "metadata": {},
   "outputs": [],
   "source": [
    "# Variable used to avoid re-running certain cells\n",
    "DATA_IS_LOADED = True"
   ]
  }
 ],
 "metadata": {
  "kernelspec": {
   "display_name": "Python 3.10.6 ('ac_virtualenv': venv)",
   "language": "python",
   "name": "python3"
  },
  "language_info": {
   "codemirror_mode": {
    "name": "ipython",
    "version": 3
   },
   "file_extension": ".py",
   "mimetype": "text/x-python",
   "name": "python",
   "nbconvert_exporter": "python",
   "pygments_lexer": "ipython3",
   "version": "3.10.6"
  },
  "vscode": {
   "interpreter": {
    "hash": "cc2621b065c91d8daace098c156b9158c3948eda13ddd77675e73400a86c3491"
   }
  }
 },
 "nbformat": 4,
 "nbformat_minor": 5
}
