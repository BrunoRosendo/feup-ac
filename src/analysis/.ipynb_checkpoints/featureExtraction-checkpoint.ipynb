{
 "cells": [
  {
   "cell_type": "markdown",
   "id": "e48bb0cf",
   "metadata": {},
   "source": [
    "# Feature selection\n",
    "In this notebook, we cover the process that led to the selection of useful features in the dataset, including statistical tests"
   ]
  },
  {
   "cell_type": "code",
   "execution_count": 2,
   "id": "82a48a38",
   "metadata": {},
   "outputs": [],
   "source": [
    "# Import relevant libraries\n",
    "import pandas as pd\n",
    "\n",
    "import statUtils as su"
   ]
  },
  {
   "cell_type": "code",
   "execution_count": 3,
   "id": "a41cc2de",
   "metadata": {},
   "outputs": [],
   "source": [
    "CLEAN_PATH = \"../../assets/clean/\""
   ]
  },
  {
   "cell_type": "code",
   "execution_count": 7,
   "id": "87e9af99",
   "metadata": {},
   "outputs": [
    {
     "name": "stdout",
     "output_type": "stream",
     "text": [
      "Doing chi-square test...\n",
      "chi2:  329056.435110552\n",
      "p:  0.0\n",
      "dof:  8\n",
      "expected:  [[7.21388739e+03 3.29326684e+02 1.69295689e+04 1.92525468e+04\n",
      "  4.49816702e+04]\n",
      " [1.88744154e+04 8.61650354e+02 4.42945251e+04 5.03723645e+04\n",
      "  1.17690045e+05]\n",
      " [4.16697205e+02 1.90229624e+01 9.77906039e+02 1.11208867e+03\n",
      "  2.59828512e+03]]\n",
      "H0 rejected\n",
      "\n",
      "-----------------\n",
      "\n",
      "\n",
      "-----------------\n",
      "\n"
     ]
    }
   ],
   "source": [
    "df = pd.read_csv(CLEAN_PATH + \"trans_dev.csv\", dtype=\n",
    "    {\n",
    "        \"trans_id\": int, \"account_id\": int, \"date\": str, \"type\": str, \"operation\": str, \n",
    "        \"amount\": float, \"balance\": float, \"k_symbol\": str, \"bank\": str, \"account\": str\n",
    "    }\n",
    ")\n",
    "\n",
    "print(\"Doing chi-square test...\")\n",
    "su.chi_square_test(df, \"type\", \"operation\")\n",
    "\n",
    "\n",
    "print(\"\\n-----------------\\n\")\n",
    "# print(\"Doing anova f-test...\")\n",
    "# su.anova_test(df)\n",
    "\n",
    "\n",
    "print(\"\\n-----------------\\n\")\n",
    "# print(\"Doing spearman correlation test...\")\n",
    "# su.spearman_correlation(df, \"municip499\", \"municip500_1999\")"
   ]
  },
  {
   "cell_type": "code",
   "execution_count": null,
   "id": "c7064d92",
   "metadata": {},
   "outputs": [],
   "source": []
  }
 ],
 "metadata": {
  "kernelspec": {
   "display_name": "Python 3 (ipykernel)",
   "language": "python",
   "name": "python3"
  },
  "language_info": {
   "codemirror_mode": {
    "name": "ipython",
    "version": 3
   },
   "file_extension": ".py",
   "mimetype": "text/x-python",
   "name": "python",
   "nbconvert_exporter": "python",
   "pygments_lexer": "ipython3",
   "version": "3.10.6"
  },
  "vscode": {
   "interpreter": {
    "hash": "cc2621b065c91d8daace098c156b9158c3948eda13ddd77675e73400a86c3491"
   }
  }
 },
 "nbformat": 4,
 "nbformat_minor": 5
}
