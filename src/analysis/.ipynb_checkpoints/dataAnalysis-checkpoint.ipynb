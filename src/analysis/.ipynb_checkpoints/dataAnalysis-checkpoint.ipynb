{
 "cells": [
  {
   "cell_type": "markdown",
   "id": "14983191",
   "metadata": {},
   "source": [
    "# Data Analysis"
   ]
  },
  {
   "cell_type": "markdown",
   "id": "0ece97d8",
   "metadata": {},
   "source": [
    "## Dependencies"
   ]
  },
  {
   "cell_type": "code",
   "execution_count": 1,
   "id": "a4997003",
   "metadata": {},
   "outputs": [],
   "source": [
    "import json\n",
    "import numpy as np\n",
    "import pandas as pd\n",
    "import matplotlib.pyplot as plt\n",
    "import seaborn as sb"
   ]
  },
  {
   "cell_type": "markdown",
   "id": "d89eb8f5",
   "metadata": {},
   "source": [
    "## Import Data"
   ]
  },
  {
   "cell_type": "code",
   "execution_count": 5,
   "id": "2d5c1c52",
   "metadata": {},
   "outputs": [],
   "source": [
    "account_data = pd.read_csv(\"../../assets/clean/account.csv\")\n",
    "card_data = pd.read_csv(\"../../assets/clean/card_dev.csv\")\n",
    "client_data = pd.read_csv(\"../../assets/clean/client.csv\")\n",
    "disp_data = pd.read_csv(\"../../assets/clean/disp.csv\", dtype={\"disp_id\": int, \"client_id\": int, \"account_id\": int, \"type\": str})\n",
    "district_data = pd.read_csv(\"../../assets/clean/district.csv\")\n",
    "loan_data = pd.read_csv(\"../../assets/clean/loan_dev.csv\")\n",
    "transaction_data = pd.read_csv(\"../../assets/clean/trans_dev.csv\", dtype=\n",
    "    {\"trans_id\": str, \"account_id\": str, \"date\": str, \"type\": str, \"operation\": str, \"amount\": float, \"balance\": float, \"k_symbol\": str, \"bank\": str, \"account\": str}\n",
    ")\n"
   ]
  },
  {
   "cell_type": "markdown",
   "id": "fbb404c6",
   "metadata": {},
   "source": [
    "## Data Exploratory Analysis"
   ]
  },
  {
   "cell_type": "markdown",
   "id": "4485fef5",
   "metadata": {},
   "source": [
    "### Change Pandas display settings"
   ]
  },
  {
   "cell_type": "code",
   "execution_count": 10,
   "id": "667d7b35",
   "metadata": {},
   "outputs": [],
   "source": [
    "pd.set_option('display.max_rows', 500)\n",
    "pd.set_option('display.max_columns', 500)\n",
    "pd.set_option('display.width', 1000)"
   ]
  },
  {
   "cell_type": "markdown",
   "id": "fddd9a62",
   "metadata": {},
   "source": [
    "### Analyze the Size of each Dataset"
   ]
  },
  {
   "cell_type": "code",
   "execution_count": 12,
   "id": "72d5df83",
   "metadata": {},
   "outputs": [
    {
     "name": "stdout",
     "output_type": "stream",
     "text": [
      "=============================================\n",
      "\n",
      "Number of rows for each dataset: \n",
      "\n",
      "Account: 4500\n",
      "Card: 177\n",
      "Client: 5369\n",
      "Disposition: 5369\n",
      "District: 77\n",
      "Loan: 328\n",
      "Transaction: 396685\n"
     ]
    }
   ],
   "source": [
    "print(\"=============================================\\n\")\n",
    "print(\"Number of rows for each dataset: \\n\")\n",
    "print(f\"Account: {len(account_data)}\")\n",
    "print(f\"Card: {len(card_data)}\")\n",
    "print(f\"Client: {len(client_data)}\")\n",
    "print(f\"Disposition: {len(disp_data)}\")\n",
    "print(f\"District: {len(district_data)}\")\n",
    "print(f\"Loan: {len(loan_data)}\")\n",
    "print(f\"Transaction: {len(transaction_data)}\")"
   ]
  },
  {
   "cell_type": "markdown",
   "id": "d49c776c",
   "metadata": {},
   "source": [
    "### Get Missing Values"
   ]
  },
  {
   "cell_type": "code",
   "execution_count": 13,
   "id": "7698bf2e",
   "metadata": {},
   "outputs": [
    {
     "name": "stdout",
     "output_type": "stream",
     "text": [
      "=============================================\n",
      "\n",
      "Missing values for each dataset: \n",
      "\n",
      "Account: \n",
      "account_id     0\n",
      "district_id    0\n",
      "frequency      0\n",
      "date           0\n",
      "dtype: int64 \n",
      "\n",
      "Card: \n",
      "card_id    0\n",
      "disp_id    0\n",
      "type       0\n",
      "issued     0\n",
      "dtype: int64 \n",
      "\n",
      "Client: \n",
      "client_id       0\n",
      "birth_number    0\n",
      "district_id     0\n",
      "gender          0\n",
      "dtype: int64 \n",
      "\n",
      "Disposition: \n",
      "disp_id       0\n",
      "client_id     0\n",
      "account_id    0\n",
      "type          0\n",
      "dtype: int64 \n",
      "\n",
      "District: \n",
      "code                 0\n",
      "name                 0\n",
      "region               0\n",
      "num_inhabitants      0\n",
      "municip499           0\n",
      "municip500_1999      0\n",
      "municip2000_9999     0\n",
      "municip10000         0\n",
      "no. of cities        0\n",
      "urban_ratio          0\n",
      "avg_salary           0\n",
      "unemp_rate95         1\n",
      "unemp_rate96         0\n",
      "num_entrepreneurs    0\n",
      "num_crimes95         1\n",
      "num_crimes96         0\n",
      "dtype: int64 \n",
      "\n",
      "Loan: \n",
      "loan_id       0\n",
      "account_id    0\n",
      "date          0\n",
      "amount        0\n",
      "duration      0\n",
      "payments      0\n",
      "paid          0\n",
      "dtype: int64 \n",
      "\n",
      "Transaction: \n",
      "trans_id           0\n",
      "account_id         0\n",
      "date               0\n",
      "type               0\n",
      "operation      70761\n",
      "amount             0\n",
      "balance            0\n",
      "k_symbol      185244\n",
      "bank          299443\n",
      "account       294456\n",
      "dtype: int64 \n",
      "\n"
     ]
    }
   ],
   "source": [
    "print(\"=============================================\\n\")\n",
    "print(\"Missing values for each dataset: \\n\")\n",
    "print(f\"Account: \\n{account_data.isnull().sum()} \\n\")\n",
    "print(f\"Card: \\n{card_data.isnull().sum()} \\n\")\n",
    "print(f\"Client: \\n{client_data.isnull().sum()} \\n\")\n",
    "print(f\"Disposition: \\n{disp_data.isnull().sum()} \\n\")\n",
    "print(f\"District: \\n{district_data.isnull().sum()} \\n\")\n",
    "print(f\"Loan: \\n{loan_data.isnull().sum()} \\n\")\n",
    "print(f\"Transaction: \\n{transaction_data.isnull().sum()} \\n\")\n",
    "\n",
    "# TODO: Confirm if missing values are all being tracked. Values such as '?' exist in the original dataset"
   ]
  },
  {
   "cell_type": "markdown",
   "id": "e13d33bf",
   "metadata": {},
   "source": [
    "### Analyze Loans"
   ]
  },
  {
   "cell_type": "code",
   "execution_count": 15,
   "id": "77d65679",
   "metadata": {},
   "outputs": [
    {
     "name": "stdout",
     "output_type": "stream",
     "text": [
      "=============================================\n",
      "\n",
      "85.98% of loans are paid.\n"
     ]
    }
   ],
   "source": [
    "print(\"=============================================\\n\")\n",
    "paid_loans = loan_data[loan_data[\"paid\"] == 1]\n",
    "unpaid_loans = loan_data[loan_data[\"paid\"] == 0]\n",
    "paid_loans_percentage = round((len(paid_loans)/len(loan_data)) * 100, 2)\n",
    "print(f\"{paid_loans_percentage}% of loans are paid.\")"
   ]
  },
  {
   "cell_type": "markdown",
   "id": "06b64100",
   "metadata": {},
   "source": [
    "Approx 86% of loans have been paid (positive result). This means\n",
    "means that accuracy isn't a good metric to optimize for"
   ]
  },
  {
   "cell_type": "code",
   "execution_count": 16,
   "id": "343d6216",
   "metadata": {},
   "outputs": [
    {
     "data": {
      "image/png": "[encoded data removed]",
      "text/plain": [
       "<Figure size 640x480 with 1 Axes>"
      ]
     },
     "metadata": {},
     "output_type": "display_data"
    }
   ],
   "source": [
    "plt.figure()\n",
    "plt.bar([0, 1], loan_data[\"paid\"].value_counts(), tick_label=[\"Paid\", \"Unpaid\"])\n",
    "# plt.ylim(0, 300)\n",
    "plt.title(\"Loans paid vs unpaid\")\n",
    "plt.xlabel(\"Paid\")\n",
    "plt.ylabel(\"Frequency\")\n",
    "plt.show()"
   ]
  },
  {
   "cell_type": "markdown",
   "id": "65f4ef9d",
   "metadata": {},
   "source": [
    "### Investigate attributes with a large quantity of nulls"
   ]
  },
  {
   "cell_type": "code",
   "execution_count": null,
   "id": "567f4adc",
   "metadata": {},
   "outputs": [],
   "source": []
  }
 ],
 "metadata": {
  "kernelspec": {
   "display_name": "Python 3.9.13 64-bit (microsoft store)",
   "language": "python",
   "name": "python3"
  },
  "language_info": {
   "codemirror_mode": {
    "name": "ipython",
    "version": 3
   },
   "file_extension": ".py",
   "mimetype": "text/x-python",
   "name": "python",
   "nbconvert_exporter": "python",
   "pygments_lexer": "ipython3",
   "version": "3.9.13"
  },
  "vscode": {
   "interpreter": {
    "hash": "1327c0fcb37cc21821c192c74e98fed8cf0274ea483059ad1aef18a8cb9d5c44"
   }
  }
 },
 "nbformat": 4,
 "nbformat_minor": 5
}
