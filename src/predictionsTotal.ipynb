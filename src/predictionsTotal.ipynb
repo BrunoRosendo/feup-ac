{
 "cells": [
  {
   "cell_type": "markdown",
   "metadata": {},
   "source": [
    "# Models and Evaluation"
   ]
  },
  {
   "cell_type": "code",
   "execution_count": 72,
   "metadata": {},
   "outputs": [
    {
     "name": "stdout",
     "output_type": "stream",
     "text": [
      "(328, 10)\n",
      "(354, 10)\n"
     ]
    }
   ],
   "source": [
    "import pandas as pd\n",
    "import numpy as np\n",
    "\n",
    "train_data = pd.read_csv('../assets/final/data.csv')\n",
    "test_data = pd.read_csv('../assets/final/kaggleData.csv')\n",
    "\n",
    "print(train_data.shape)\n",
    "print(test_data.shape)"
   ]
  },
  {
   "cell_type": "code",
   "execution_count": 73,
   "metadata": {},
   "outputs": [],
   "source": [
    "def get_features(df):\n",
    "    return df.drop('paid', axis=1)\n",
    "def get_target(df):\n",
    "    return df.drop(df.columns.difference(['paid']), axis=1)\n",
    "\n",
    "results = {}"
   ]
  },
  {
   "cell_type": "markdown",
   "metadata": {},
   "source": [
    "### Split data"
   ]
  },
  {
   "cell_type": "code",
   "execution_count": 74,
   "metadata": {},
   "outputs": [],
   "source": [
    "def split_data():\n",
    "    ids_train = train_data['loan_id']\n",
    "    ids_test = test_data['loan_id']\n",
    "\n",
    "    train_data.drop(['loan_id'], axis=1, inplace=True)\n",
    "    test_data.drop(['loan_id'], axis=1, inplace=True)\n",
    "\n",
    "    train_features = get_features(train_data)\n",
    "    train_target = get_target(train_data)\n",
    "    test_features = get_features(test_data)\n",
    "    test_target = get_target(test_data)\n",
    "\n",
    "    return train_features, test_features, train_target, test_target, ids_train, ids_test\n"
   ]
  },
  {
   "cell_type": "code",
   "execution_count": 75,
   "metadata": {},
   "outputs": [
    {
     "name": "stdout",
     "output_type": "stream",
     "text": [
      "\n",
      "Train data shape:  (328, 8)\n",
      "\n",
      "Test data shape:  (354, 8)\n",
      "\n",
      "Train shape: (328, 1)\n",
      "\n",
      "Test shape: (354, 1)\n"
     ]
    }
   ],
   "source": [
    "_X_train, _X_test, _y_train, _y_test, ids_train, ids_test = split_data()\n",
    "\n",
    "print('\\nTrain data shape: ', _X_train.shape)\n",
    "print('\\nTest data shape: ', _X_test.shape)\n",
    "print('\\nTrain shape:',_y_train.shape)\n",
    "print('\\nTest shape:',_y_test.shape)\n"
   ]
  },
  {
   "cell_type": "markdown",
   "metadata": {},
   "source": [
    "### Resampling"
   ]
  },
  {
   "cell_type": "code",
   "execution_count": 76,
   "metadata": {},
   "outputs": [],
   "source": [
    "def oversample(X_train, y_train):\n",
    "    from imblearn.over_sampling import SMOTE\n",
    "    sm = SMOTE(random_state=1, sampling_strategy=1.0)\n",
    "    X_train, y_train = sm.fit_resample(X_train, y_train)\n",
    "    return X_train, y_train"
   ]
  },
  {
   "cell_type": "code",
   "execution_count": 77,
   "metadata": {},
   "outputs": [
    {
     "name": "stdout",
     "output_type": "stream",
     "text": [
      "\n",
      "Train data shape:  (564, 8)\n",
      "\n",
      "Train shape: (564, 1)\n"
     ]
    }
   ],
   "source": [
    "_smote_X_train, _smote_y_train = oversample(_X_train, _y_train)\n",
    "\n",
    "print('\\nTrain data shape: ', _smote_X_train.shape)\n",
    "print('\\nTrain shape:',_smote_y_train.shape)\n"
   ]
  },
  {
   "cell_type": "markdown",
   "metadata": {},
   "source": [
    "### Algorithms"
   ]
  },
  {
   "cell_type": "code",
   "execution_count": 78,
   "metadata": {},
   "outputs": [],
   "source": [
    "def add_model(name, model, use_smote=False):\n",
    "    import datetime\n",
    "    X_train = _X_train.copy()\n",
    "    X_test = _X_test.copy()\n",
    "    smote_X_train = _smote_X_train.copy()\n",
    "\n",
    "    start = datetime.datetime.now()\n",
    "    if use_smote: model.fit(smote_X_train, np.ravel(_smote_y_train.values))\n",
    "    else: model.fit(X_train, np.ravel(_y_train.values))\n",
    "    end = datetime.datetime.now()\n",
    "\n",
    "    results[name] = {'model': model,\n",
    "                    'X_train': X_train, \n",
    "                    'X_test': X_test, \n",
    "                    'y_train': np.ravel(_y_train.values), \n",
    "                    'y_test': np.ravel(_y_test.values),\n",
    "                    'fit_time': (end - start).microseconds / 1000 # time difference in milliseconds\n",
    "                    }"
   ]
  },
  {
   "cell_type": "code",
   "execution_count": 79,
   "metadata": {},
   "outputs": [],
   "source": [
    "SMOTE = True"
   ]
  },
  {
   "cell_type": "code",
   "execution_count": 80,
   "metadata": {},
   "outputs": [],
   "source": [
    "from sklearn.tree import DecisionTreeClassifier\n",
    "add_model('dtc',\n",
    "    DecisionTreeClassifier(),\n",
    "    use_smote=SMOTE\n",
    ")"
   ]
  },
  {
   "cell_type": "code",
   "execution_count": 81,
   "metadata": {},
   "outputs": [],
   "source": [
    "from sklearn.neighbors import KNeighborsClassifier\n",
    "add_model('knn',\n",
    "    KNeighborsClassifier(),\n",
    "    use_smote=SMOTE\n",
    ")"
   ]
  },
  {
   "cell_type": "code",
   "execution_count": 82,
   "metadata": {},
   "outputs": [],
   "source": [
    "from sklearn.neural_network import MLPClassifier\n",
    "add_model('mlp',\n",
    "    MLPClassifier(),\n",
    "    use_smote=SMOTE\n",
    ")"
   ]
  },
  {
   "cell_type": "code",
   "execution_count": 83,
   "metadata": {},
   "outputs": [],
   "source": [
    "from sklearn.naive_bayes import GaussianNB\n",
    "add_model('gnb',\n",
    "    GaussianNB(),\n",
    "    use_smote=SMOTE\n",
    ")"
   ]
  },
  {
   "cell_type": "code",
   "execution_count": 84,
   "metadata": {},
   "outputs": [],
   "source": [
    "from sklearn.svm import SVC\n",
    "add_model('svc',\n",
    "    SVC(probability=True),\n",
    "    use_smote=SMOTE\n",
    ")"
   ]
  },
  {
   "cell_type": "code",
   "execution_count": 90,
   "metadata": {},
   "outputs": [],
   "source": [
    "from sklearn.ensemble import RandomForestClassifier\n",
    "\n",
    "add_model('rf',\n",
    "    RandomForestClassifier(),#criterion='entropy', max_depth=3, max_features='sqrt', n_estimators=150),\n",
    "    use_smote=SMOTE\n",
    ")"
   ]
  },
  {
   "cell_type": "markdown",
   "metadata": {},
   "source": [
    "## Prediction"
   ]
  },
  {
   "cell_type": "code",
   "execution_count": 91,
   "metadata": {},
   "outputs": [],
   "source": [
    "def predict(name, isTrain=False):\n",
    "    prefix = 'train' if isTrain else 'test'\n",
    "    result = results[name]\n",
    "    pred = result['model'].predict(result['X_'+prefix])\n",
    "    result[prefix+'pred'] = pred\n",
    "\n",
    "for name in results.keys():\n",
    "    predict(name)\n",
    "for name in results.keys():\n",
    "    predict(name, isTrain=True)"
   ]
  },
  {
   "cell_type": "code",
   "execution_count": 92,
   "metadata": {},
   "outputs": [],
   "source": [
    "def predict_proba(name, isTrain=False):\n",
    "    prefix = 'train' if isTrain else 'test'\n",
    "    result = results[name]\n",
    "    proba = result['model'].predict_proba(result['X_'+prefix])\n",
    "    result[prefix+'pred_prob'] = proba\n",
    "\n",
    "for name in results.keys():\n",
    "    predict_proba(name)\n",
    "for name in results.keys():\n",
    "    predict_proba(name, isTrain=True)\n"
   ]
  },
  {
   "cell_type": "code",
   "execution_count": 93,
   "metadata": {},
   "outputs": [
    {
     "name": "stdout",
     "output_type": "stream",
     "text": [
      "       Id  loan_id  Predicted  status\n",
      "0    5895     5895       0.05       0\n",
      "1    7122     7122       0.97       1\n",
      "2    6173     6173       0.42       0\n",
      "3    6142     6142       0.02       0\n",
      "4    5358     5358       0.40       0\n",
      "..    ...      ...        ...     ...\n",
      "349  4989     4989       0.79       0\n",
      "350  5221     5221       0.23       0\n",
      "351  6402     6402       0.12       0\n",
      "352  5346     5346       0.57       0\n",
      "353  6748     6748       0.50       0\n",
      "\n",
      "[354 rows x 4 columns]\n"
     ]
    },
    {
     "data": {
      "image/png": "[encoded data removed]",
      "text/plain": [
       "<Figure size 432x288 with 1 Axes>"
      ]
     },
     "metadata": {
      "needs_background": "light"
     },
     "output_type": "display_data"
    },
    {
     "data": {
      "text/plain": [
       "'\\ndef roc_and_auc(name, isTrain=False):\\n    fig, ax = plt.subplots()\\n    result = results[name]\\n    fpr, tpr, thresholds = roc_curve(result[\\'mix\\'][\\'status\\'], result[\\'mix\\'][\\'Predicted\\'], pos_label=result[\\'model\\'].classes_[0])\\n    roc_display = RocCurveDisplay(fpr=fpr, tpr=tpr).plot(ax=ax,name=(name.upper()))\\n    print(name.upper(), \\'test\\' + \":\\t\", auc(fpr, tpr))\\n\\n#for name in results.keys():\\n#    roc_and_auc(name)\\nroc_and_auc(\\'rf\\')\\n'"
      ]
     },
     "execution_count": 93,
     "metadata": {},
     "output_type": "execute_result"
    }
   ],
   "source": [
    "expected = pd.read_csv('../assets/expected.csv')\n",
    "expected['status'] = expected['status'].map(lambda x: 0 if x == 1 else 1)\n",
    "\n",
    "\n",
    "'''\n",
    "for name in results.keys():\n",
    "    d = {'Id': ids_test.values, 'Predicted': results[name]['testpred_prob'][:,0]}\n",
    "    df = pd.DataFrame(data=d)\n",
    "    mix = pd.merge(df, expected, left_on='Id', right_on='loan_id', how='left')\n",
    "    print(mix[['Id', 'loan_id', 'Predicted', 'status']])\n",
    "    #results[name]['mix'] = mix[['Id', 'loan_id', 'Predicted', 'status']]\n",
    "'''\n",
    "d = {'Id': ids_test.values, 'Predicted': results['rf']['testpred_prob'][:,0]}\n",
    "df = pd.DataFrame(data=d)\n",
    "mix = pd.merge(df, expected, left_on='Id', right_on='loan_id', how='left')\n",
    "print(mix[['Id', 'loan_id', 'Predicted', 'status']])\n",
    "\n",
    "# Calculate the Roc and AUC of the model using Predicted and Status columns\n",
    "from sklearn.metrics import roc_curve, auc, RocCurveDisplay\n",
    "import matplotlib.pyplot as plt\n",
    "\n",
    "\n",
    "fpr, tpr, thresholds = roc_curve(mix['status'], mix['Predicted'])\n",
    "roc_auc = auc(fpr, tpr)\n",
    "\n",
    "plt.figure()\n",
    "lw = 2\n",
    "plt.plot(fpr, tpr, color='darkorange',\n",
    "            lw=lw, label='ROC curve (area = %0.2f)' % roc_auc)\n",
    "plt.plot([0, 1], [0, 1], color='navy', lw=lw, linestyle='--')\n",
    "plt.xlim([0.0, 1.0])\n",
    "plt.ylim([0.0, 1.05])\n",
    "plt.xlabel('False Positive Rate')\n",
    "plt.ylabel('True Positive Rate')\n",
    "plt.title('Receiver operating characteristic example')\n",
    "plt.legend(loc=\"lower right\")\n",
    "plt.show()\n",
    "\n",
    "'''\n",
    "def roc_and_auc(name, isTrain=False):\n",
    "    fig, ax = plt.subplots()\n",
    "    result = results[name]\n",
    "    fpr, tpr, thresholds = roc_curve(result['mix']['status'], result['mix']['Predicted'], pos_label=result['model'].classes_[0])\n",
    "    roc_display = RocCurveDisplay(fpr=fpr, tpr=tpr).plot(ax=ax,name=(name.upper()))\n",
    "    print(name.upper(), 'test' + \":\\t\", auc(fpr, tpr))\n",
    "\n",
    "#for name in results.keys():\n",
    "#    roc_and_auc(name)\n",
    "roc_and_auc('rf')\n",
    "'''\n",
    "\n"
   ]
  }
 ],
 "metadata": {
  "kernelspec": {
   "display_name": "Python 3.9.13 64-bit (microsoft store)",
   "language": "python",
   "name": "python3"
  },
  "language_info": {
   "codemirror_mode": {
    "name": "ipython",
    "version": 3
   },
   "file_extension": ".py",
   "mimetype": "text/x-python",
   "name": "python",
   "nbconvert_exporter": "python",
   "pygments_lexer": "ipython3",
   "version": "3.9.13"
  },
  "vscode": {
   "interpreter": {
    "hash": "1327c0fcb37cc21821c192c74e98fed8cf0274ea483059ad1aef18a8cb9d5c44"
   }
  }
 },
 "nbformat": 4,
 "nbformat_minor": 2
}
