{
 "cells": [
  {
   "cell_type": "markdown",
   "metadata": {},
   "source": [
    "## Outliers Analysis\n",
    "\n",
    "In this section we will try to find outliers in our data. To do that, we will use DBSCAN with all features"
   ]
  },
  {
   "cell_type": "code",
   "execution_count": 224,
   "metadata": {},
   "outputs": [],
   "source": [
    "# Import relevant libraries\n",
    "import pandas as pd\n",
    "import matplotlib.pyplot as plt\n",
    "import seaborn as sb\n",
    "\n",
    "data = pd.read_csv('../assets/final/data.csv')"
   ]
  },
  {
   "cell_type": "code",
   "execution_count": 225,
   "metadata": {},
   "outputs": [],
   "source": [
    "from sklearn.cluster import DBSCAN\n",
    "import numpy as np\n",
    "\n",
    "def DB_outliers(df, eps, min_samples): # Adapted from https://donernesto.github.io/blog/outlier-detection-with-dbscan/\n",
    "    db = DBSCAN(eps=eps, min_samples=min_samples)\n",
    "    db.fit(df)\n",
    "\n",
    "    labels = np.zeros(len(db.labels_))\n",
    "    \n",
    "    # make a list of tuples: (i, num points in i) for i in db.labels_ except for the label -1 (noise)\n",
    "    label_counts = [(i, np.sum(db.labels_==i)) for i in set(db.labels_) - set([-1])]\n",
    "    label_counts.sort(key=lambda x : -x[1]) # sort by counts per class, descending\n",
    "    \n",
    "    # assign the labels. Those points with label =-1 get highest label (equal to number of classes -1) \n",
    "    labels[db.labels_== -1] = len(set(db.labels_)) - 1\n",
    "    for i, (label, label_count) in enumerate(label_counts):\n",
    "        labels[db.labels_==label] = i\n",
    "\n",
    "    # Scale the values between 0 and 1\n",
    "    labels = (labels - min(labels)) / (max(labels) - min(labels))\n",
    "    print(\"Num Clusters:\" + str(len(set(labels))))\n",
    "    print(\"Size Outliers:\" + str(np.sum(labels == 1)))\n",
    "    return db.labels_"
   ]
  },
  {
   "cell_type": "markdown",
   "metadata": {},
   "source": [
    "The number of `min_samples` should be 2*number_dimensions. [Source](https://www.reneshbedre.com/blog/dbscan-python.html).\n",
    "\n",
    "To find the optimal `eps` value, which is the radius of neighbourhoods, we'll gorup the data with K-NN. In the k-NN distance plot, you should look for the “knee” of the curve to find the optimal value of ε. In the below plot, the knee occurs at approximately 24000 i.e. the points below 24000 belong to a cluster and points above 24000 are noise or outliers (noise points will have higher kNN distance)."
   ]
  },
  {
   "cell_type": "code",
   "execution_count": 226,
   "metadata": {},
   "outputs": [
    {
     "data": {
      "image/png": "[encoded data removed]",
      "text/plain": [
       "<Figure size 432x288 with 1 Axes>"
      ]
     },
     "metadata": {
      "needs_background": "light"
     },
     "output_type": "display_data"
    }
   ],
   "source": [
    "from sklearn.neighbors import NearestNeighbors\n",
    "\n",
    "def k_distance_plot(df, min_samples):\n",
    "    neigh = NearestNeighbors(n_neighbors=min_samples)\n",
    "    nbrs = neigh.fit(df)\n",
    "    distances, indices = nbrs.kneighbors(df)\n",
    "    distances = np.sort(distances, axis=0)\n",
    "    distances = distances[:,1]\n",
    "    plt.plot(distances)\n",
    "\n",
    "k_distance_plot(data, len(data.columns) * 2)"
   ]
  },
  {
   "cell_type": "code",
   "execution_count": 232,
   "metadata": {},
   "outputs": [
    {
     "name": "stdout",
     "output_type": "stream",
     "text": [
      "Num Clusters:2\n",
      "Size Outliers:68\n"
     ]
    }
   ],
   "source": [
    "eps = 24000\n",
    "min_samples = len(data.columns) * 2\n",
    "data_labels = DB_outliers(data, eps, min_samples)"
   ]
  },
  {
   "cell_type": "markdown",
   "metadata": {},
   "source": [
    "### Outliers (%)"
   ]
  },
  {
   "cell_type": "code",
   "execution_count": 228,
   "metadata": {},
   "outputs": [
    {
     "data": {
      "text/plain": [
       "21.951219512195124"
      ]
     },
     "execution_count": 228,
     "metadata": {},
     "output_type": "execute_result"
    }
   ],
   "source": [
    "100 * (63 / len(data))"
   ]
  },
  {
   "cell_type": "markdown",
   "metadata": {},
   "source": [
    "According to DBSCAN, our data contains 20.7% of outliers."
   ]
  },
  {
   "cell_type": "markdown",
   "metadata": {},
   "source": [
    "### Visualization of DBSCAN Clustering"
   ]
  },
  {
   "cell_type": "code",
   "execution_count": 229,
   "metadata": {},
   "outputs": [
    {
     "data": {
      "image/png": "[encoded data removed]",
      "text/plain": [
       "<Figure size 432x288 with 1 Axes>"
      ]
     },
     "metadata": {
      "needs_background": "light"
     },
     "output_type": "display_data"
    }
   ],
   "source": [
    "p = sb.scatterplot(data=data, x=\"balance_mean\", y=\"paid\", hue=data_labels, legend=\"full\", palette=\"deep\")\n",
    "sb.move_legend(p, \"upper right\", bbox_to_anchor=(1.17, 1.2), title='Clusters')\n",
    "plt.show()"
   ]
  },
  {
   "cell_type": "markdown",
   "metadata": {},
   "source": [
    "### Create dataset without outliers"
   ]
  },
  {
   "cell_type": "code",
   "execution_count": 230,
   "metadata": {},
   "outputs": [
    {
     "data": {
      "text/html": [
       "<div>\n",
       "<style scoped>\n",
       "    .dataframe tbody tr th:only-of-type {\n",
       "        vertical-align: middle;\n",
       "    }\n",
       "\n",
       "    .dataframe tbody tr th {\n",
       "        vertical-align: top;\n",
       "    }\n",
       "\n",
       "    .dataframe thead th {\n",
       "        text-align: right;\n",
       "    }\n",
       "</style>\n",
       "<table border=\"1\" class=\"dataframe\">\n",
       "  <thead>\n",
       "    <tr style=\"text-align: right;\">\n",
       "      <th></th>\n",
       "      <th>is_co-owned</th>\n",
       "      <th>gender</th>\n",
       "      <th>age</th>\n",
       "      <th>amount</th>\n",
       "      <th>payments</th>\n",
       "      <th>balance_min</th>\n",
       "      <th>balance_mean</th>\n",
       "      <th>a_avg_salary</th>\n",
       "      <th>mean_3m_influx</th>\n",
       "      <th>frequency_monthly issuance</th>\n",
       "      <th>frequency_weekly issuance</th>\n",
       "      <th>paid</th>\n",
       "      <th>loan_id</th>\n",
       "    </tr>\n",
       "  </thead>\n",
       "  <tbody>\n",
       "    <tr>\n",
       "      <th>0</th>\n",
       "      <td>0</td>\n",
       "      <td>0</td>\n",
       "      <td>2</td>\n",
       "      <td>96396</td>\n",
       "      <td>8033</td>\n",
       "      <td>1100.0</td>\n",
       "      <td>12250.000000</td>\n",
       "      <td>9650</td>\n",
       "      <td>6333.333333</td>\n",
       "      <td>0</td>\n",
       "      <td>1</td>\n",
       "      <td>0</td>\n",
       "      <td>5314</td>\n",
       "    </tr>\n",
       "    <tr>\n",
       "      <th>1</th>\n",
       "      <td>0</td>\n",
       "      <td>1</td>\n",
       "      <td>1</td>\n",
       "      <td>165960</td>\n",
       "      <td>4610</td>\n",
       "      <td>700.0</td>\n",
       "      <td>52083.859459</td>\n",
       "      <td>8369</td>\n",
       "      <td>-12278.966667</td>\n",
       "      <td>1</td>\n",
       "      <td>0</td>\n",
       "      <td>1</td>\n",
       "      <td>5316</td>\n",
       "    </tr>\n",
       "    <tr>\n",
       "      <th>2</th>\n",
       "      <td>0</td>\n",
       "      <td>1</td>\n",
       "      <td>3</td>\n",
       "      <td>127080</td>\n",
       "      <td>2118</td>\n",
       "      <td>800.0</td>\n",
       "      <td>30060.954167</td>\n",
       "      <td>8390</td>\n",
       "      <td>-2448.833333</td>\n",
       "      <td>1</td>\n",
       "      <td>0</td>\n",
       "      <td>1</td>\n",
       "      <td>6863</td>\n",
       "    </tr>\n",
       "    <tr>\n",
       "      <th>3</th>\n",
       "      <td>0</td>\n",
       "      <td>0</td>\n",
       "      <td>2</td>\n",
       "      <td>105804</td>\n",
       "      <td>2939</td>\n",
       "      <td>1000.0</td>\n",
       "      <td>41297.480000</td>\n",
       "      <td>10045</td>\n",
       "      <td>-990.000000</td>\n",
       "      <td>1</td>\n",
       "      <td>0</td>\n",
       "      <td>1</td>\n",
       "      <td>5325</td>\n",
       "    </tr>\n",
       "    <tr>\n",
       "      <th>5</th>\n",
       "      <td>1</td>\n",
       "      <td>0</td>\n",
       "      <td>0</td>\n",
       "      <td>87840</td>\n",
       "      <td>3660</td>\n",
       "      <td>500.0</td>\n",
       "      <td>46318.552941</td>\n",
       "      <td>8598</td>\n",
       "      <td>6394.400000</td>\n",
       "      <td>1</td>\n",
       "      <td>0</td>\n",
       "      <td>1</td>\n",
       "      <td>6687</td>\n",
       "    </tr>\n",
       "    <tr>\n",
       "      <th>...</th>\n",
       "      <td>...</td>\n",
       "      <td>...</td>\n",
       "      <td>...</td>\n",
       "      <td>...</td>\n",
       "      <td>...</td>\n",
       "      <td>...</td>\n",
       "      <td>...</td>\n",
       "      <td>...</td>\n",
       "      <td>...</td>\n",
       "      <td>...</td>\n",
       "      <td>...</td>\n",
       "      <td>...</td>\n",
       "      <td>...</td>\n",
       "    </tr>\n",
       "    <tr>\n",
       "      <th>323</th>\n",
       "      <td>1</td>\n",
       "      <td>0</td>\n",
       "      <td>1</td>\n",
       "      <td>155616</td>\n",
       "      <td>3242</td>\n",
       "      <td>200.0</td>\n",
       "      <td>44197.509884</td>\n",
       "      <td>8994</td>\n",
       "      <td>2870.900000</td>\n",
       "      <td>1</td>\n",
       "      <td>0</td>\n",
       "      <td>1</td>\n",
       "      <td>6818</td>\n",
       "    </tr>\n",
       "    <tr>\n",
       "      <th>324</th>\n",
       "      <td>0</td>\n",
       "      <td>1</td>\n",
       "      <td>3</td>\n",
       "      <td>222180</td>\n",
       "      <td>3703</td>\n",
       "      <td>800.0</td>\n",
       "      <td>55230.444068</td>\n",
       "      <td>8843</td>\n",
       "      <td>-4189.433333</td>\n",
       "      <td>1</td>\n",
       "      <td>0</td>\n",
       "      <td>0</td>\n",
       "      <td>5625</td>\n",
       "    </tr>\n",
       "    <tr>\n",
       "      <th>325</th>\n",
       "      <td>0</td>\n",
       "      <td>0</td>\n",
       "      <td>2</td>\n",
       "      <td>45024</td>\n",
       "      <td>938</td>\n",
       "      <td>800.0</td>\n",
       "      <td>41994.907692</td>\n",
       "      <td>10177</td>\n",
       "      <td>130.366667</td>\n",
       "      <td>1</td>\n",
       "      <td>0</td>\n",
       "      <td>1</td>\n",
       "      <td>6805</td>\n",
       "    </tr>\n",
       "    <tr>\n",
       "      <th>326</th>\n",
       "      <td>0</td>\n",
       "      <td>1</td>\n",
       "      <td>2</td>\n",
       "      <td>115812</td>\n",
       "      <td>3217</td>\n",
       "      <td>1100.0</td>\n",
       "      <td>56646.516129</td>\n",
       "      <td>8427</td>\n",
       "      <td>-11088.566667</td>\n",
       "      <td>1</td>\n",
       "      <td>0</td>\n",
       "      <td>1</td>\n",
       "      <td>7233</td>\n",
       "    </tr>\n",
       "    <tr>\n",
       "      <th>327</th>\n",
       "      <td>0</td>\n",
       "      <td>0</td>\n",
       "      <td>1</td>\n",
       "      <td>129408</td>\n",
       "      <td>5392</td>\n",
       "      <td>1000.0</td>\n",
       "      <td>30869.781308</td>\n",
       "      <td>8110</td>\n",
       "      <td>2759.900000</td>\n",
       "      <td>1</td>\n",
       "      <td>0</td>\n",
       "      <td>1</td>\n",
       "      <td>7308</td>\n",
       "    </tr>\n",
       "  </tbody>\n",
       "</table>\n",
       "<p>265 rows × 13 columns</p>\n",
       "</div>"
      ],
      "text/plain": [
       "     is_co-owned  gender  age  amount  payments  balance_min  balance_mean  \\\n",
       "0              0       0    2   96396      8033       1100.0  12250.000000   \n",
       "1              0       1    1  165960      4610        700.0  52083.859459   \n",
       "2              0       1    3  127080      2118        800.0  30060.954167   \n",
       "3              0       0    2  105804      2939       1000.0  41297.480000   \n",
       "5              1       0    0   87840      3660        500.0  46318.552941   \n",
       "..           ...     ...  ...     ...       ...          ...           ...   \n",
       "323            1       0    1  155616      3242        200.0  44197.509884   \n",
       "324            0       1    3  222180      3703        800.0  55230.444068   \n",
       "325            0       0    2   45024       938        800.0  41994.907692   \n",
       "326            0       1    2  115812      3217       1100.0  56646.516129   \n",
       "327            0       0    1  129408      5392       1000.0  30869.781308   \n",
       "\n",
       "     a_avg_salary  mean_3m_influx  frequency_monthly issuance  \\\n",
       "0            9650     6333.333333                           0   \n",
       "1            8369   -12278.966667                           1   \n",
       "2            8390    -2448.833333                           1   \n",
       "3           10045     -990.000000                           1   \n",
       "5            8598     6394.400000                           1   \n",
       "..            ...             ...                         ...   \n",
       "323          8994     2870.900000                           1   \n",
       "324          8843    -4189.433333                           1   \n",
       "325         10177      130.366667                           1   \n",
       "326          8427   -11088.566667                           1   \n",
       "327          8110     2759.900000                           1   \n",
       "\n",
       "     frequency_weekly issuance  paid  loan_id  \n",
       "0                            1     0     5314  \n",
       "1                            0     1     5316  \n",
       "2                            0     1     6863  \n",
       "3                            0     1     5325  \n",
       "5                            0     1     6687  \n",
       "..                         ...   ...      ...  \n",
       "323                          0     1     6818  \n",
       "324                          0     0     5625  \n",
       "325                          0     1     6805  \n",
       "326                          0     1     7233  \n",
       "327                          0     1     7308  \n",
       "\n",
       "[265 rows x 13 columns]"
      ]
     },
     "execution_count": 230,
     "metadata": {},
     "output_type": "execute_result"
    }
   ],
   "source": [
    "pure_data = data[data_labels != -1]\n",
    "pure_data"
   ]
  },
  {
   "cell_type": "code",
   "execution_count": 231,
   "metadata": {},
   "outputs": [],
   "source": [
    "import os\n",
    "\n",
    "PATH = '../assets/final'\n",
    "FINAL_FILE_DEV = \"/pure_data.csv\"\n",
    "\n",
    "\n",
    "if not os.path.exists(PATH):\n",
    "  os.mkdir(PATH)\n",
    "\n",
    "\n",
    "pure_data.to_csv(PATH + FINAL_FILE_DEV, index=False)"
   ]
  }
 ],
 "metadata": {
  "kernelspec": {
   "display_name": "Python 3.9.12 ('base')",
   "language": "python",
   "name": "python3"
  },
  "language_info": {
   "codemirror_mode": {
    "name": "ipython",
    "version": 3
   },
   "file_extension": ".py",
   "mimetype": "text/x-python",
   "name": "python",
   "nbconvert_exporter": "python",
   "pygments_lexer": "ipython3",
   "version": "3.9.12"
  },
  "orig_nbformat": 4,
  "vscode": {
   "interpreter": {
    "hash": "141daa10505db807b372138034ec5408490e8f64ccf92a35eda8bf94ce848d30"
   }
  }
 },
 "nbformat": 4,
 "nbformat_minor": 2
}
