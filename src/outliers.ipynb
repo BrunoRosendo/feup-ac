{
 "cells": [
  {
   "cell_type": "markdown",
   "metadata": {},
   "source": [
    "## Outliers Analysis\n",
    "\n",
    "In this section we will try to find outliers in our data. To do that, we will use DBSCAN with all features"
   ]
  },
  {
   "cell_type": "code",
   "execution_count": 88,
   "metadata": {},
   "outputs": [],
   "source": [
    "# Import relevant libraries\n",
    "import pandas as pd\n",
    "import matplotlib.pyplot as plt\n",
    "import seaborn as sb\n",
    "\n",
    "from sklearn.preprocessing import StandardScaler\n",
    "from sklearn.decomposition import PCA\n",
    "\n",
    "data = pd.read_csv('../assets/final/data.csv')"
   ]
  },
  {
   "cell_type": "code",
   "execution_count": 89,
   "metadata": {},
   "outputs": [],
   "source": [
    "from sklearn.cluster import DBSCAN\n",
    "import numpy as np\n",
    "\n",
    "def DB_outliers(df, eps, min_samples): # Adapted from https://donernesto.github.io/blog/outlier-detection-with-dbscan/\n",
    "    db = DBSCAN(eps=eps, min_samples=min_samples)\n",
    "    db.fit(df)\n",
    "\n",
    "    labels = np.zeros(len(db.labels_))\n",
    "    print(db.labels_)\n",
    "    \n",
    "    # make a list of tuples: (i, num points in i) for i in db.labels_\n",
    "    label_counts = [(i, np.sum(db.labels_==i)) for i in set(db.labels_) - set([-1])]\n",
    "    label_counts.sort(key=lambda x : -x[1]) # sort by counts per class, descending\n",
    "    \n",
    "    # assign the labels. Those points with label =-1 get highest label (equal to number of classes -1) \n",
    "    labels[db.labels_== -1] = len(set(db.labels_)) - 1\n",
    "    for i, (label, label_count) in enumerate(label_counts):\n",
    "        labels[db.labels_==label] = i\n",
    "\n",
    "    # Scale the values between 0 and 1\n",
    "    labels = (labels - min(labels)) / (max(labels) - min(labels))\n",
    "    print(\"Num Clusters:\" + str(len(set(labels))))\n",
    "    print(\"Size Outliers:\" + str(np.sum(labels == 1)))"
   ]
  },
  {
   "cell_type": "markdown",
   "metadata": {},
   "source": [
    "The number of `min_samples` should be 2*number_dimensions. [Source](https://www.reneshbedre.com/blog/dbscan-python.html).\n",
    "\n",
    "To find the optimal `eps` value, which is the radius of neighbourhoods, we'll gorup the data with K-NN. In the k-NN distance plot, you should look for the “knee” of the curve to find the optimal value of ε. In the below plot, the knee occurs at approximately 3800 i.e. the points below 3800 belong to a cluster and points above 3800 are noise or outliers (noise points will have higher kNN distance)."
   ]
  },
  {
   "cell_type": "code",
   "execution_count": 90,
   "metadata": {},
   "outputs": [
    {
     "data": {
      "image/png": "[encoded data removed]",
      "text/plain": [
       "<Figure size 432x288 with 1 Axes>"
      ]
     },
     "metadata": {
      "needs_background": "light"
     },
     "output_type": "display_data"
    }
   ],
   "source": [
    "from sklearn.neighbors import NearestNeighbors\n",
    "\n",
    "def k_distance_plot(df, min_samples):\n",
    "    neigh = NearestNeighbors(n_neighbors=min_samples)\n",
    "    nbrs = neigh.fit(df)\n",
    "    distances, indices = nbrs.kneighbors(df)\n",
    "    distances = np.sort(distances, axis=0)\n",
    "    distances = distances[:,1]\n",
    "    plt.plot(distances)\n",
    "\n",
    "k_distance_plot(data, len(data.columns) * 2)"
   ]
  },
  {
   "cell_type": "code",
   "execution_count": 91,
   "metadata": {},
   "outputs": [
    {
     "name": "stdout",
     "output_type": "stream",
     "text": [
      "[-1  0  0  0  0  0  0  0 -1  0  0 -1  0  0  0  0  0  0 -1  0  0  0  0  0\n",
      " -1  0 -1  0  0  0  0  0  0  0  0  0  0  0  1  0  0  0  0  1  0  0  1  0\n",
      "  0  0  0  0  0  0  0  0  0  0  0  0  0  0 -1  0  0  0  0  1 -1  0  1  0\n",
      "  0  0  0  0  0  0  0  0  0  0  0  0  0  0  1  0  0  0  0  0 -1  0 -1 -1\n",
      "  0  0  0  0  0  0  0  0 -1  0  0  0  0  0 -1  0  0  0  0 -1  0  1  0  1\n",
      "  0 -1  0  0  1  1 -1  0  0  0  0 -1 -1 -1  0  0  0 -1  0  0  0  1  0  0\n",
      "  0  0 -1  0  0  0  0  0 -1  0  0  0  0  0 -1  0 -1  0  0  0  0  0  0  1\n",
      "  0 -1  0 -1  0  0  0  0  0  0  0  0  0  0  0  0  1  0  0  0  0  0  0  0\n",
      "  0  0 -1 -1 -1  0 -1  0  0  0  0  0  0  0  0  1  0  0  0  0  1  0  0  0\n",
      "  1  0 -1  0  0  0 -1 -1 -1  1  0  0  0  0  0  0 -1  0  0  0  0  0  0  0\n",
      "  0  0  0  0  0  0  1  1  0  0  1  0  0  0  0  0  0  1  0 -1 -1  0  0  0\n",
      " -1  0  0  0  0  0  0  0  0  1  0  0  0 -1 -1  0  0  0  0  0  0  0 -1  0\n",
      "  0  0  0  0  0  0 -1  0  0  0  0  0  0  0  1  0  0  1  0  1 -1  0  0  0\n",
      "  0  0  0 -1  0  0  0  0  0  0  0  0  0  0  0  0]\n",
      "Num Clusters:3\n",
      "Size Outliers:44\n"
     ]
    }
   ],
   "source": [
    "eps = 3800\n",
    "min_samples = len(data.columns) * 2\n",
    "DB_outliers(data, eps, min_samples)"
   ]
  },
  {
   "cell_type": "markdown",
   "metadata": {},
   "source": [
    "### Outliers (%)"
   ]
  },
  {
   "cell_type": "code",
   "execution_count": 92,
   "metadata": {},
   "outputs": [
    {
     "data": {
      "text/plain": [
       "20.73170731707317"
      ]
     },
     "execution_count": 92,
     "metadata": {},
     "output_type": "execute_result"
    }
   ],
   "source": [
    "100 * (68 / len(data))"
   ]
  },
  {
   "cell_type": "markdown",
   "metadata": {},
   "source": [
    "According to DBSCAN, our data contains 20.7% of outliers."
   ]
  },
  {
   "cell_type": "markdown",
   "metadata": {},
   "source": []
  }
 ],
 "metadata": {
  "kernelspec": {
   "display_name": "Python 3.9.12 ('base')",
   "language": "python",
   "name": "python3"
  },
  "language_info": {
   "codemirror_mode": {
    "name": "ipython",
    "version": 3
   },
   "file_extension": ".py",
   "mimetype": "text/x-python",
   "name": "python",
   "nbconvert_exporter": "python",
   "pygments_lexer": "ipython3",
   "version": "3.9.12"
  },
  "orig_nbformat": 4,
  "vscode": {
   "interpreter": {
    "hash": "141daa10505db807b372138034ec5408490e8f64ccf92a35eda8bf94ce848d30"
   }
  }
 },
 "nbformat": 4,
 "nbformat_minor": 2
}
