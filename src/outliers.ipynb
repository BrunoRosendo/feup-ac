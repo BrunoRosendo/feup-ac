{
 "cells": [
  {
   "cell_type": "markdown",
   "metadata": {},
   "source": [
    "## Outliers Analysis\n",
    "\n",
    "In this section we will try to find outliers in our data. To do that, we will use DBSCAN with all features"
   ]
  },
  {
   "cell_type": "code",
   "execution_count": 5,
   "metadata": {},
   "outputs": [],
   "source": [
    "# Import relevant libraries\n",
    "import pandas as pd\n",
    "import matplotlib.pyplot as plt\n",
    "import seaborn as sb\n",
    "\n",
    "from sklearn.preprocessing import StandardScaler\n",
    "from sklearn.decomposition import PCA\n",
    "\n",
    "data = pd.read_csv('../assets/final/data.csv')"
   ]
  },
  {
   "cell_type": "code",
   "execution_count": 6,
   "metadata": {},
   "outputs": [],
   "source": [
    "from sklearn.cluster import DBSCAN\n",
    "import numpy as np\n",
    "\n",
    "def DB_outliers(df, eps, min_samples): # Adapted from https://donernesto.github.io/blog/outlier-detection-with-dbscan/\n",
    "    db = DBSCAN(eps=eps, min_samples=min_samples)\n",
    "    db.fit(df)\n",
    "\n",
    "    labels = np.zeros(len(db.labels_))\n",
    "    \n",
    "    # make a list of tuples: (i, num points in i) for i in db.labels_\n",
    "    label_counts = [(i, np.sum(db.labels_==i)) for i in set(db.labels_) - set([-1])]\n",
    "    label_counts.sort(key=lambda x : -x[1]) # sort by counts per class, descending\n",
    "    \n",
    "    # assign the labels. Those points with label =-1 get highest label (equal to number of classes -1) \n",
    "    labels[db.labels_== -1] = len(set(db.labels_)) - 1\n",
    "    for i, (label, label_count) in enumerate(label_counts):\n",
    "        labels[db.labels_==label] = i\n",
    "\n",
    "    # Scale the values between 0 and 1\n",
    "    labels = (labels - min(labels)) / (max(labels) - min(labels))\n",
    "    print(\"Num Clusters:\" + str(len(set(labels))))\n",
    "    print(\"Size Outliers:\" + str(np.sum(labels == 1)))"
   ]
  },
  {
   "cell_type": "code",
   "execution_count": 7,
   "metadata": {},
   "outputs": [
    {
     "data": {
      "image/png": "[encoded data removed]",
      "text/plain": [
       "<Figure size 432x288 with 1 Axes>"
      ]
     },
     "metadata": {
      "needs_background": "light"
     },
     "output_type": "display_data"
    }
   ],
   "source": [
    "from sklearn.neighbors import NearestNeighbors\n",
    "\n",
    "def k_distance_plot(df, min_samples):\n",
    "    neigh = NearestNeighbors(n_neighbors=min_samples)\n",
    "    nbrs = neigh.fit(df)\n",
    "    distances, indices = nbrs.kneighbors(df)\n",
    "    distances = np.sort(distances, axis=0)\n",
    "    distances = distances[:,1]\n",
    "    plt.plot(distances)\n",
    "\n",
    "k_distance_plot(data, len(data.columns) * 2)"
   ]
  },
  {
   "cell_type": "code",
   "execution_count": 9,
   "metadata": {},
   "outputs": [
    {
     "name": "stdout",
     "output_type": "stream",
     "text": [
      "Num Clusters:3\n",
      "Size Outliers:270\n"
     ]
    }
   ],
   "source": [
    "DB_outliers(data, 14000, len(data.columns) * 2)"
   ]
  },
  {
   "cell_type": "code",
   "execution_count": 11,
   "metadata": {},
   "outputs": [
    {
     "data": {
      "text/plain": [
       "27.4390243902439"
      ]
     },
     "execution_count": 11,
     "metadata": {},
     "output_type": "execute_result"
    }
   ],
   "source": [
    "100 * 90 / len(data)"
   ]
  },
  {
   "cell_type": "code",
   "execution_count": null,
   "metadata": {},
   "outputs": [],
   "source": []
  }
 ],
 "metadata": {
  "kernelspec": {
   "display_name": "Python 3.9.12 ('base')",
   "language": "python",
   "name": "python3"
  },
  "language_info": {
   "codemirror_mode": {
    "name": "ipython",
    "version": 3
   },
   "file_extension": ".py",
   "mimetype": "text/x-python",
   "name": "python",
   "nbconvert_exporter": "python",
   "pygments_lexer": "ipython3",
   "version": "3.9.12"
  },
  "orig_nbformat": 4,
  "vscode": {
   "interpreter": {
    "hash": "141daa10505db807b372138034ec5408490e8f64ccf92a35eda8bf94ce848d30"
   }
  }
 },
 "nbformat": 4,
 "nbformat_minor": 2
}
